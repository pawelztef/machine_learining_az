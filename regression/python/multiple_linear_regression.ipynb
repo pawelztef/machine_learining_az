{
 "cells": [
  {
   "cell_type": "markdown",
   "id": "72ce7c2a-b69c-4ce7-bfb9-a5f5bd8e063a",
   "metadata": {},
   "source": [
    "# Multiple Linear Regression"
   ]
  },
  {
   "cell_type": "markdown",
   "id": "69f4b659-c66e-44d5-9ddc-cc86ee189146",
   "metadata": {},
   "source": [
    "## Importing the libraries"
   ]
  },
  {
   "cell_type": "code",
   "execution_count": 1,
   "id": "c83b9c52-22df-4c11-84ae-70cb59210b5c",
   "metadata": {},
   "outputs": [],
   "source": [
    "import pandas as pd\n",
    "import numpy as np\n",
    "import matplotlib.pyplot as plt"
   ]
  },
  {
   "cell_type": "markdown",
   "id": "3b212d05-aad3-48dd-842d-ab53c26bdc5c",
   "metadata": {},
   "source": [
    "## Importing the dataset"
   ]
  },
  {
   "cell_type": "code",
   "execution_count": 40,
   "id": "63641365-90b2-41a3-8de0-99fdfc206d0e",
   "metadata": {},
   "outputs": [],
   "source": [
    "dataset = pd.read_csv('../50_Startups.csv')\n",
    "X = dataset.iloc[:, :-1].values\n",
    "y = dataset.iloc[:, -1].values"
   ]
  },
  {
   "cell_type": "markdown",
   "id": "d83c4b4e-3135-4273-a8f1-ddedac6fa26d",
   "metadata": {},
   "source": [
    "## Encoding categorical data"
   ]
  },
  {
   "cell_type": "code",
   "execution_count": 41,
   "id": "1c17ba9e-0274-49c0-96f9-6f9290169726",
   "metadata": {},
   "outputs": [],
   "source": [
    "from sklearn.compose import ColumnTransformer\n",
    "from sklearn.preprocessing import OneHotEncoder\n",
    "\n",
    "ct = ColumnTransformer(transformers=[('encoder', OneHotEncoder(), [3])], remainder='passthrough')\n",
    "X = np.array(ct.fit_transform(X))"
   ]
  },
  {
   "cell_type": "markdown",
   "id": "5376804d-9fcf-4a99-ae31-c7c7dad73135",
   "metadata": {},
   "source": [
    "## Spliting the data set into Training Set and Test Set "
   ]
  },
  {
   "cell_type": "code",
   "execution_count": 43,
   "id": "e64f8a79-63d7-42c8-bc64-c10f244d5e29",
   "metadata": {},
   "outputs": [],
   "source": [
    "from sklearn.model_selection import train_test_split\n",
    "X_train, X_test, y_train, y_test = train_test_split(X, y, test_size=0.2, random_state=0)"
   ]
  },
  {
   "cell_type": "markdown",
   "id": "416bd9dc-fb2a-42c8-852f-08cce1a369be",
   "metadata": {},
   "source": [
    "## Training Multiple Linear Regression model on Training Data Set "
   ]
  },
  {
   "cell_type": "code",
   "execution_count": 44,
   "id": "9218a4e4-bb88-4342-b92f-0ad93aab9161",
   "metadata": {},
   "outputs": [
    {
     "data": {
      "text/plain": [
       "LinearRegression()"
      ]
     },
     "execution_count": 44,
     "metadata": {},
     "output_type": "execute_result"
    }
   ],
   "source": [
    "from sklearn.linear_model import LinearRegression\n",
    "\n",
    "regressor = LinearRegression()\n",
    "regressor.fit(X_train, y_train)"
   ]
  },
  {
   "cell_type": "markdown",
   "id": "bff79166-3a9f-40bc-a878-b39be7d894d3",
   "metadata": {},
   "source": [
    "## Predictions on Test Data Set "
   ]
  },
  {
   "cell_type": "code",
   "execution_count": 46,
   "id": "63c2b3b8-28d7-40a1-99e8-2fc04aeb59ca",
   "metadata": {},
   "outputs": [
    {
     "name": "stdout",
     "output_type": "stream",
     "text": [
      "[[103015.2  103282.38]\n",
      " [132582.28 144259.4 ]\n",
      " [132447.74 146121.95]\n",
      " [ 71976.1   77798.83]\n",
      " [178537.48 191050.39]\n",
      " [116161.24 105008.31]\n",
      " [ 67851.69  81229.06]\n",
      " [ 98791.73  97483.56]\n",
      " [113969.44 110352.25]\n",
      " [167921.07 166187.94]]\n"
     ]
    }
   ],
   "source": [
    "y_pred = regressor.predict(X_test)\n",
    "\n",
    "np.set_printoptions(precision=2)\n",
    "print(np.concatenate((y_pred.reshape(len(y_pred), 1), y_test.reshape(len(y_test), 1)), axis=1))\n"
   ]
  },
  {
   "cell_type": "code",
   "execution_count": null,
   "id": "536e7258-25a0-479e-8202-25235723cd38",
   "metadata": {},
   "outputs": [],
   "source": []
  }
 ],
 "metadata": {
  "kernelspec": {
   "display_name": "Python 3 (ipykernel)",
   "language": "python",
   "name": "python3"
  },
  "language_info": {
   "codemirror_mode": {
    "name": "ipython",
    "version": 3
   },
   "file_extension": ".py",
   "mimetype": "text/x-python",
   "name": "python",
   "nbconvert_exporter": "python",
   "pygments_lexer": "ipython3",
   "version": "3.9.7"
  }
 },
 "nbformat": 4,
 "nbformat_minor": 5
}
