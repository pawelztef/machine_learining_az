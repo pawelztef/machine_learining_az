{
 "cells": [
  {
   "cell_type": "markdown",
   "id": "df53d404-6daa-490b-808e-b6cfb2d53783",
   "metadata": {},
   "source": [
    "## Data Preprocessing Templage"
   ]
  },
  {
   "cell_type": "code",
   "execution_count": 21,
   "id": "55bd4236-74f4-42b3-9588-a919c12f18fd",
   "metadata": {},
   "outputs": [],
   "source": [
    "import numpy as np\n",
    "import matplotlib.pyplot as plt\n",
    "import pandas as pd"
   ]
  },
  {
   "cell_type": "markdown",
   "id": "d60de2e7-3ff0-4ee1-ab30-7416484563af",
   "metadata": {},
   "source": [
    "### Importing the dataset\n"
   ]
  },
  {
   "cell_type": "code",
   "execution_count": 22,
   "id": "cccfc85d-0142-4432-9f09-09a2df90eb5c",
   "metadata": {},
   "outputs": [],
   "source": [
    "dataset = pd.read_csv('../Data.csv')\n",
    "\n",
    "# matrix of feauters\n",
    "X = dataset.iloc[:, :-1].values\n",
    "# dependent variable vector\n",
    "Y = dataset.iloc[:, -1:].values"
   ]
  },
  {
   "cell_type": "markdown",
   "id": "011d2003-38ef-41d3-8270-51c517ce0250",
   "metadata": {},
   "source": [
    "### Splitting the dataset into the Training Set and Test Set"
   ]
  },
  {
   "cell_type": "code",
   "execution_count": 28,
   "id": "cc2147f3-44b8-4439-966b-a1c9e7b7786b",
   "metadata": {},
   "outputs": [],
   "source": [
    "from sklearn.model_selection import train_test_split\n",
    "\n",
    "X_train, X_test, Y_train, Y_test = train_test_split(X, Y, test_size=0.2, random_state=1)"
   ]
  }
 ],
 "metadata": {
  "kernelspec": {
   "display_name": "Python 3 (ipykernel)",
   "language": "python",
   "name": "python3"
  },
  "language_info": {
   "codemirror_mode": {
    "name": "ipython",
    "version": 3
   },
   "file_extension": ".py",
   "mimetype": "text/x-python",
   "name": "python",
   "nbconvert_exporter": "python",
   "pygments_lexer": "ipython3",
   "version": "3.9.7"
  },
  "toc-autonumbering": false,
  "toc-showcode": false,
  "toc-showmarkdowntxt": true,
  "toc-showtags": false
 },
 "nbformat": 4,
 "nbformat_minor": 5
}
