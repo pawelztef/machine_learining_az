{
 "cells": [
  {
   "cell_type": "markdown",
   "id": "df53d404-6daa-490b-808e-b6cfb2d53783",
   "metadata": {},
   "source": [
    "## Data Preprocessing Tools"
   ]
  },
  {
   "cell_type": "code",
   "execution_count": 3,
   "id": "55bd4236-74f4-42b3-9588-a919c12f18fd",
   "metadata": {},
   "outputs": [],
   "source": [
    "import numpy as np\n",
    "import matplotlib.pyplot as plt\n",
    "import pandas as pd"
   ]
  },
  {
   "cell_type": "markdown",
   "id": "d60de2e7-3ff0-4ee1-ab30-7416484563af",
   "metadata": {},
   "source": [
    "### Importing the dataset\n"
   ]
  },
  {
   "cell_type": "code",
   "execution_count": 8,
   "id": "cccfc85d-0142-4432-9f09-09a2df90eb5c",
   "metadata": {},
   "outputs": [
    {
     "data": {
      "text/plain": [
       "(array([['France', 44.0, 72000.0],\n",
       "        ['Spain', 27.0, 48000.0],\n",
       "        ['Germany', 30.0, 54000.0],\n",
       "        ['Spain', 38.0, 61000.0],\n",
       "        ['Germany', 40.0, nan],\n",
       "        ['France', 35.0, 58000.0],\n",
       "        ['Spain', nan, 52000.0],\n",
       "        ['France', 48.0, 79000.0],\n",
       "        ['Germany', 50.0, 83000.0],\n",
       "        ['France', 37.0, 67000.0]], dtype=object),\n",
       " array([['No'],\n",
       "        ['Yes'],\n",
       "        ['No'],\n",
       "        ['No'],\n",
       "        ['Yes'],\n",
       "        ['Yes'],\n",
       "        ['No'],\n",
       "        ['Yes'],\n",
       "        ['No'],\n",
       "        ['Yes']], dtype=object))"
      ]
     },
     "execution_count": 8,
     "metadata": {},
     "output_type": "execute_result"
    }
   ],
   "source": [
    "dataset = pd.read_csv('../Data.csv')\n",
    "\n",
    "# matrix of feauters\n",
    "X = dataset.iloc[:, :-1].values\n",
    "# dependent variable vector\n",
    "Y = dataset.iloc[:, -1:].values\n",
    "\n",
    "X, Y"
   ]
  },
  {
   "cell_type": "markdown",
   "id": "c8593004-eb3a-4f2a-8aa5-12b9fffddcca",
   "metadata": {
    "jp-MarkdownHeadingCollapsed": true,
    "tags": []
   },
   "source": [
    "### Taking care of missing data"
   ]
  },
  {
   "cell_type": "markdown",
   "id": "a334bb8a-9c2e-4500-8256-0838c0e43370",
   "metadata": {
    "jp-MarkdownHeadingCollapsed": true,
    "tags": []
   },
   "source": [
    "### Encoding ctegorical data"
   ]
  },
  {
   "cell_type": "markdown",
   "id": "48324edc-a8e9-4437-bced-1c30fa9fd655",
   "metadata": {},
   "source": [
    "#### Encoding the Independent Variable"
   ]
  },
  {
   "cell_type": "markdown",
   "id": "a0ab928a-0f60-45a1-8350-fa023bad4dae",
   "metadata": {},
   "source": [
    "#### Endocding the Dependent Variable"
   ]
  },
  {
   "cell_type": "markdown",
   "id": "011d2003-38ef-41d3-8270-51c517ce0250",
   "metadata": {},
   "source": [
    "### Splitting the dataset into the Training Set and Test Set"
   ]
  },
  {
   "cell_type": "markdown",
   "id": "dcd3427e-1e2a-479f-a961-f8bb2a03e368",
   "metadata": {
    "jp-MarkdownHeadingCollapsed": true,
    "tags": []
   },
   "source": [
    "### Feauture Scaling"
   ]
  },
  {
   "cell_type": "code",
   "execution_count": null,
   "id": "5b84a5ba-98f5-486f-a481-a0908b5d7afa",
   "metadata": {},
   "outputs": [],
   "source": []
  }
 ],
 "metadata": {
  "kernelspec": {
   "display_name": "Python 3 (ipykernel)",
   "language": "python",
   "name": "python3"
  },
  "language_info": {
   "codemirror_mode": {
    "name": "ipython",
    "version": 3
   },
   "file_extension": ".py",
   "mimetype": "text/x-python",
   "name": "python",
   "nbconvert_exporter": "python",
   "pygments_lexer": "ipython3",
   "version": "3.9.7"
  },
  "toc-autonumbering": false,
  "toc-showcode": false,
  "toc-showmarkdowntxt": true,
  "toc-showtags": false
 },
 "nbformat": 4,
 "nbformat_minor": 5
}
